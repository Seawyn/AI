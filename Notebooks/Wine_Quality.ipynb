{
 "cells": [
  {
   "cell_type": "code",
   "execution_count": 1,
   "id": "2318741f",
   "metadata": {},
   "outputs": [],
   "source": [
    "from collections import Counter\n",
    "import csv\n",
    "import matplotlib.pyplot as plt\n",
    "import numpy as np\n",
    "import pyspark\n",
    "from pyspark.sql.functions import isnan, when, count, col, collect_list\n",
    "import random\n",
    "import requests\n",
    "from sklearn.ensemble import RandomForestClassifier\n",
    "from sklearn.metrics import recall_score, mean_absolute_error\n",
    "import xgboost as xgb"
   ]
  },
  {
   "cell_type": "markdown",
   "id": "fb2d03f9",
   "metadata": {},
   "source": [
    "Init PySpark and Dataset"
   ]
  },
  {
   "cell_type": "code",
   "execution_count": 2,
   "id": "1aa47ff6",
   "metadata": {},
   "outputs": [],
   "source": [
    "spark = pyspark.sql.SparkSession.builder.appName('Wine Quality').getOrCreate()"
   ]
  },
  {
   "cell_type": "code",
   "execution_count": 3,
   "id": "e9c420ca",
   "metadata": {},
   "outputs": [],
   "source": [
    "data = spark.read.csv('../Datasets/winequality-red.csv', sep=';', inferSchema=True, header=True)"
   ]
  },
  {
   "cell_type": "code",
   "execution_count": 4,
   "id": "82bc1571",
   "metadata": {},
   "outputs": [
    {
     "data": {
      "text/html": [
       "<div>\n",
       "<style scoped>\n",
       "    .dataframe tbody tr th:only-of-type {\n",
       "        vertical-align: middle;\n",
       "    }\n",
       "\n",
       "    .dataframe tbody tr th {\n",
       "        vertical-align: top;\n",
       "    }\n",
       "\n",
       "    .dataframe thead th {\n",
       "        text-align: right;\n",
       "    }\n",
       "</style>\n",
       "<table border=\"1\" class=\"dataframe\">\n",
       "  <thead>\n",
       "    <tr style=\"text-align: right;\">\n",
       "      <th></th>\n",
       "      <th>fixed acidity</th>\n",
       "      <th>volatile acidity</th>\n",
       "      <th>citric acid</th>\n",
       "      <th>residual sugar</th>\n",
       "      <th>chlorides</th>\n",
       "      <th>free sulfur dioxide</th>\n",
       "      <th>total sulfur dioxide</th>\n",
       "      <th>density</th>\n",
       "      <th>pH</th>\n",
       "      <th>sulphates</th>\n",
       "      <th>alcohol</th>\n",
       "      <th>quality</th>\n",
       "    </tr>\n",
       "  </thead>\n",
       "  <tbody>\n",
       "    <tr>\n",
       "      <th>0</th>\n",
       "      <td>7.4</td>\n",
       "      <td>0.70</td>\n",
       "      <td>0.00</td>\n",
       "      <td>1.9</td>\n",
       "      <td>0.076</td>\n",
       "      <td>11.0</td>\n",
       "      <td>34.0</td>\n",
       "      <td>0.9978</td>\n",
       "      <td>3.51</td>\n",
       "      <td>0.56</td>\n",
       "      <td>9.4</td>\n",
       "      <td>5</td>\n",
       "    </tr>\n",
       "    <tr>\n",
       "      <th>1</th>\n",
       "      <td>7.8</td>\n",
       "      <td>0.88</td>\n",
       "      <td>0.00</td>\n",
       "      <td>2.6</td>\n",
       "      <td>0.098</td>\n",
       "      <td>25.0</td>\n",
       "      <td>67.0</td>\n",
       "      <td>0.9968</td>\n",
       "      <td>3.20</td>\n",
       "      <td>0.68</td>\n",
       "      <td>9.8</td>\n",
       "      <td>5</td>\n",
       "    </tr>\n",
       "    <tr>\n",
       "      <th>2</th>\n",
       "      <td>7.8</td>\n",
       "      <td>0.76</td>\n",
       "      <td>0.04</td>\n",
       "      <td>2.3</td>\n",
       "      <td>0.092</td>\n",
       "      <td>15.0</td>\n",
       "      <td>54.0</td>\n",
       "      <td>0.9970</td>\n",
       "      <td>3.26</td>\n",
       "      <td>0.65</td>\n",
       "      <td>9.8</td>\n",
       "      <td>5</td>\n",
       "    </tr>\n",
       "    <tr>\n",
       "      <th>3</th>\n",
       "      <td>11.2</td>\n",
       "      <td>0.28</td>\n",
       "      <td>0.56</td>\n",
       "      <td>1.9</td>\n",
       "      <td>0.075</td>\n",
       "      <td>17.0</td>\n",
       "      <td>60.0</td>\n",
       "      <td>0.9980</td>\n",
       "      <td>3.16</td>\n",
       "      <td>0.58</td>\n",
       "      <td>9.8</td>\n",
       "      <td>6</td>\n",
       "    </tr>\n",
       "    <tr>\n",
       "      <th>4</th>\n",
       "      <td>7.4</td>\n",
       "      <td>0.70</td>\n",
       "      <td>0.00</td>\n",
       "      <td>1.9</td>\n",
       "      <td>0.076</td>\n",
       "      <td>11.0</td>\n",
       "      <td>34.0</td>\n",
       "      <td>0.9978</td>\n",
       "      <td>3.51</td>\n",
       "      <td>0.56</td>\n",
       "      <td>9.4</td>\n",
       "      <td>5</td>\n",
       "    </tr>\n",
       "  </tbody>\n",
       "</table>\n",
       "</div>"
      ],
      "text/plain": [
       "   fixed acidity  volatile acidity  citric acid  residual sugar  chlorides  \\\n",
       "0            7.4              0.70         0.00             1.9      0.076   \n",
       "1            7.8              0.88         0.00             2.6      0.098   \n",
       "2            7.8              0.76         0.04             2.3      0.092   \n",
       "3           11.2              0.28         0.56             1.9      0.075   \n",
       "4            7.4              0.70         0.00             1.9      0.076   \n",
       "\n",
       "   free sulfur dioxide  total sulfur dioxide  density    pH  sulphates  \\\n",
       "0                 11.0                  34.0   0.9978  3.51       0.56   \n",
       "1                 25.0                  67.0   0.9968  3.20       0.68   \n",
       "2                 15.0                  54.0   0.9970  3.26       0.65   \n",
       "3                 17.0                  60.0   0.9980  3.16       0.58   \n",
       "4                 11.0                  34.0   0.9978  3.51       0.56   \n",
       "\n",
       "   alcohol  quality  \n",
       "0      9.4        5  \n",
       "1      9.8        5  \n",
       "2      9.8        5  \n",
       "3      9.8        6  \n",
       "4      9.4        5  "
      ]
     },
     "execution_count": 4,
     "metadata": {},
     "output_type": "execute_result"
    }
   ],
   "source": [
    "data.toPandas().head()"
   ]
  },
  {
   "cell_type": "markdown",
   "id": "53813e1e",
   "metadata": {},
   "source": [
    "Analysis"
   ]
  },
  {
   "cell_type": "markdown",
   "id": "46417a3b",
   "metadata": {},
   "source": [
    "Missing Values"
   ]
  },
  {
   "cell_type": "code",
   "execution_count": 5,
   "id": "018f1764",
   "metadata": {},
   "outputs": [
    {
     "data": {
      "text/html": [
       "<div>\n",
       "<style scoped>\n",
       "    .dataframe tbody tr th:only-of-type {\n",
       "        vertical-align: middle;\n",
       "    }\n",
       "\n",
       "    .dataframe tbody tr th {\n",
       "        vertical-align: top;\n",
       "    }\n",
       "\n",
       "    .dataframe thead th {\n",
       "        text-align: right;\n",
       "    }\n",
       "</style>\n",
       "<table border=\"1\" class=\"dataframe\">\n",
       "  <thead>\n",
       "    <tr style=\"text-align: right;\">\n",
       "      <th></th>\n",
       "      <th>Number of missing</th>\n",
       "    </tr>\n",
       "  </thead>\n",
       "  <tbody>\n",
       "    <tr>\n",
       "      <th>fixed acidity</th>\n",
       "      <td>0</td>\n",
       "    </tr>\n",
       "    <tr>\n",
       "      <th>volatile acidity</th>\n",
       "      <td>0</td>\n",
       "    </tr>\n",
       "    <tr>\n",
       "      <th>citric acid</th>\n",
       "      <td>0</td>\n",
       "    </tr>\n",
       "    <tr>\n",
       "      <th>residual sugar</th>\n",
       "      <td>0</td>\n",
       "    </tr>\n",
       "    <tr>\n",
       "      <th>chlorides</th>\n",
       "      <td>0</td>\n",
       "    </tr>\n",
       "    <tr>\n",
       "      <th>free sulfur dioxide</th>\n",
       "      <td>0</td>\n",
       "    </tr>\n",
       "    <tr>\n",
       "      <th>total sulfur dioxide</th>\n",
       "      <td>0</td>\n",
       "    </tr>\n",
       "    <tr>\n",
       "      <th>density</th>\n",
       "      <td>0</td>\n",
       "    </tr>\n",
       "    <tr>\n",
       "      <th>pH</th>\n",
       "      <td>0</td>\n",
       "    </tr>\n",
       "    <tr>\n",
       "      <th>sulphates</th>\n",
       "      <td>0</td>\n",
       "    </tr>\n",
       "    <tr>\n",
       "      <th>alcohol</th>\n",
       "      <td>0</td>\n",
       "    </tr>\n",
       "    <tr>\n",
       "      <th>quality</th>\n",
       "      <td>0</td>\n",
       "    </tr>\n",
       "  </tbody>\n",
       "</table>\n",
       "</div>"
      ],
      "text/plain": [
       "                      Number of missing\n",
       "fixed acidity                         0\n",
       "volatile acidity                      0\n",
       "citric acid                           0\n",
       "residual sugar                        0\n",
       "chlorides                             0\n",
       "free sulfur dioxide                   0\n",
       "total sulfur dioxide                  0\n",
       "density                               0\n",
       "pH                                    0\n",
       "sulphates                             0\n",
       "alcohol                               0\n",
       "quality                               0"
      ]
     },
     "execution_count": 5,
     "metadata": {},
     "output_type": "execute_result"
    }
   ],
   "source": [
    "nans = data.select([count(when(isnan(c), c)).alias(c) for c in data.columns]).toPandas().transpose()\n",
    "nans.columns = ['Number of missing']\n",
    "nans"
   ]
  },
  {
   "cell_type": "markdown",
   "id": "7a0aeed3",
   "metadata": {},
   "source": [
    "Number of values"
   ]
  },
  {
   "cell_type": "code",
   "execution_count": 6,
   "id": "c4dad822",
   "metadata": {},
   "outputs": [
    {
     "name": "stdout",
     "output_type": "stream",
     "text": [
      "fixed acidity: 96 unique values\n",
      "volatile acidity: 143 unique values\n",
      "citric acid: 80 unique values\n",
      "residual sugar: 91 unique values\n",
      "chlorides: 153 unique values\n",
      "free sulfur dioxide: 60 unique values\n",
      "total sulfur dioxide: 144 unique values\n",
      "density: 436 unique values\n",
      "pH: 89 unique values\n",
      "sulphates: 96 unique values\n",
      "alcohol: 65 unique values\n",
      "quality: 6 unique values\n"
     ]
    }
   ],
   "source": [
    "for c in data.columns:\n",
    "    print(c + ':', str(len(set(list(data.select(collect_list(c)).first()[0])))) + ' unique values')"
   ]
  },
  {
   "cell_type": "markdown",
   "id": "1df139b4",
   "metadata": {},
   "source": [
    "Class Distribution"
   ]
  },
  {
   "cell_type": "code",
   "execution_count": 7,
   "id": "7793c67e",
   "metadata": {},
   "outputs": [],
   "source": [
    "classes = data.select(collect_list('quality')).first()[0]\n",
    "class_counter = Counter(classes)\n",
    "class_dist = [class_counter[key] for key in class_counter.keys()]"
   ]
  },
  {
   "cell_type": "code",
   "execution_count": 8,
   "id": "67d927b4",
   "metadata": {},
   "outputs": [
    {
     "data": {
      "image/png": "[encoded data removed]",
      "text/plain": [
       "<Figure size 720x360 with 1 Axes>"
      ]
     },
     "metadata": {
      "needs_background": "light"
     },
     "output_type": "display_data"
    }
   ],
   "source": [
    "fig, ax = plt.subplots(figsize=(10, 5))\n",
    "ax.bar([str(el) for el in class_counter.keys()], class_dist)\n",
    "for i, v in enumerate(class_dist):\n",
    "    ax.text(i - 0.1, v + 5, str(v), fontweight='bold')\n",
    "plt.show()"
   ]
  },
  {
   "cell_type": "markdown",
   "id": "eb52bb6f",
   "metadata": {},
   "source": [
    "Map Outputs"
   ]
  },
  {
   "cell_type": "code",
   "execution_count": 9,
   "id": "2d0a167e",
   "metadata": {},
   "outputs": [
    {
     "data": {
      "text/plain": [
       "{3, 4, 5, 6, 7, 8}"
      ]
     },
     "execution_count": 9,
     "metadata": {},
     "output_type": "execute_result"
    }
   ],
   "source": [
    "set(list(data.select(collect_list('quality')).first()[0]))"
   ]
  },
  {
   "cell_type": "code",
   "execution_count": 10,
   "id": "ae08800e",
   "metadata": {},
   "outputs": [],
   "source": [
    "data = data.withColumn('quality', data['quality'] - 3)"
   ]
  },
  {
   "cell_type": "code",
   "execution_count": 11,
   "id": "1426b098",
   "metadata": {},
   "outputs": [
    {
     "data": {
      "text/plain": [
       "{0, 1, 2, 3, 4, 5}"
      ]
     },
     "execution_count": 11,
     "metadata": {},
     "output_type": "execute_result"
    }
   ],
   "source": [
    "set(list(data.select(collect_list('quality')).first()[0]))"
   ]
  },
  {
   "cell_type": "markdown",
   "id": "da35c9e4",
   "metadata": {},
   "source": [
    "Train-Test Split"
   ]
  },
  {
   "cell_type": "code",
   "execution_count": 12,
   "id": "462ef535",
   "metadata": {},
   "outputs": [],
   "source": [
    "train, test = data.randomSplit([0.85, 0.15], seed=42)"
   ]
  },
  {
   "cell_type": "code",
   "execution_count": 13,
   "id": "fc994af1",
   "metadata": {},
   "outputs": [],
   "source": [
    "x_train, y_train = train.select(data.columns[:-1]), train.select(data.columns[-1])\n",
    "x_test, y_test = test.select(data.columns[:-1]), test.select(data.columns[-1])\n",
    "x_train = x_train.toPandas().values\n",
    "y_train = y_train.toPandas().values.flatten()\n",
    "x_test = x_test.toPandas().values\n",
    "y_test = y_test.toPandas().values.flatten()"
   ]
  },
  {
   "cell_type": "markdown",
   "id": "f9905263",
   "metadata": {},
   "source": [
    "Train XGboost Classifier"
   ]
  },
  {
   "cell_type": "code",
   "execution_count": 14,
   "id": "6b3a4764",
   "metadata": {},
   "outputs": [],
   "source": [
    "D_train = xgb.DMatrix(x_train, label=y_train)\n",
    "D_test = xgb.DMatrix(x_test, label=y_test)"
   ]
  },
  {
   "cell_type": "code",
   "execution_count": 15,
   "id": "04bfcd28",
   "metadata": {},
   "outputs": [],
   "source": [
    "def train_xgb_classifier(eta, dp, n_class, steps, d_train, d_test):\n",
    "    params = {'eta': eta, \n",
    "        'max_depth': dp,\n",
    "        'eval_metric': 'mlogloss',\n",
    "        'num_class': n_class\n",
    "    }\n",
    "    \n",
    "    model = xgb.train(params, d_train, steps)\n",
    "    preds = model.predict(d_test)\n",
    "    return round(recall_score(preds, y_test, average='micro'), 4)"
   ]
  },
  {
   "cell_type": "code",
   "execution_count": 16,
   "id": "bee73881",
   "metadata": {},
   "outputs": [
    {
     "name": "stdout",
     "output_type": "stream",
     "text": [
      "Best eta: 0.25\n",
      "Best max_depth: 4\n",
      "Best number of steps: 50\n",
      "Recall: 0.6847\n"
     ]
    }
   ],
   "source": [
    "num_class = len(set(list(data.select(collect_list('quality')).first()[0])))\n",
    "\n",
    "all_etas = [0.10, 0.15, 0.20, 0.25, 0.30]\n",
    "all_depths = [2, 3, 4, 5, 6, 7]\n",
    "all_steps = [10, 15, 20, 25, 30, 40, 50, 75, 100]\n",
    "\n",
    "perfs = np.zeros((len(all_etas), len(all_depths), len(all_steps)))\n",
    "\n",
    "# Grid search over eta, max_depth and step parameters\n",
    "for i in range(len(all_etas)):\n",
    "    for j in range(len(all_depths)):\n",
    "        for k in range(len(all_steps)):\n",
    "            perfs[i, j, k] = train_xgb_classifier(all_etas[i], all_depths[j], num_class, all_steps[k], D_train, D_test)\n",
    "\n",
    "# Find optimal set of parameters (maximizes recall)\n",
    "best_eta, best_depth, best_steps = np.where(perfs == perfs.max())\n",
    "best_eta = best_eta[0]\n",
    "best_depth = best_depth[0]\n",
    "best_steps = best_steps[0]\n",
    "\n",
    "print('Best eta:', all_etas[best_eta])\n",
    "print('Best max_depth:', all_depths[best_depth])\n",
    "print('Best number of steps:', all_steps[best_steps])\n",
    "print('Recall:', perfs.max())"
   ]
  },
  {
   "cell_type": "markdown",
   "id": "9efc5a81",
   "metadata": {},
   "source": [
    "Random Forest Classifier"
   ]
  },
  {
   "cell_type": "code",
   "execution_count": 17,
   "id": "ef106de6",
   "metadata": {},
   "outputs": [],
   "source": [
    "rf_perfs = []\n",
    "all_rf_depths = [i for i in range(1, 10)]\n",
    "for depth in all_rf_depths:\n",
    "    rf = RandomForestClassifier(max_depth=depth, random_state=42)\n",
    "    rf.fit(x_train, y_train)\n",
    "    rf_preds = rf.predict(x_test)\n",
    "    rf_perfs.append(round(recall_score(rf_preds, y_test, average='micro'), 4))"
   ]
  },
  {
   "cell_type": "code",
   "execution_count": 18,
   "id": "59cb0ac5",
   "metadata": {},
   "outputs": [
    {
     "name": "stdout",
     "output_type": "stream",
     "text": [
      "Best recall: 0.67 (max_depth of 9)\n"
     ]
    }
   ],
   "source": [
    "print('Best recall:', max(rf_perfs), '(max_depth of ' + str(all_rf_depths[rf_perfs.index(max(rf_perfs))]) + ')')"
   ]
  },
  {
   "cell_type": "code",
   "execution_count": 19,
   "id": "e29d567a",
   "metadata": {},
   "outputs": [],
   "source": [
    "spark.stop()"
   ]
  }
 ],
 "metadata": {
  "kernelspec": {
   "display_name": "Python 3",
   "language": "python",
   "name": "python3"
  },
  "language_info": {
   "codemirror_mode": {
    "name": "ipython",
    "version": 3
   },
   "file_extension": ".py",
   "mimetype": "text/x-python",
   "name": "python",
   "nbconvert_exporter": "python",
   "pygments_lexer": "ipython3",
   "version": "3.8.10"
  }
 },
 "nbformat": 4,
 "nbformat_minor": 5
}
