{
 "cells": [
  {
   "cell_type": "code",
   "execution_count": 1,
   "id": "447af6f7",
   "metadata": {},
   "outputs": [],
   "source": [
    "import matplotlib.pyplot as plt\n",
    "import numpy as np\n",
    "import pandas\n",
    "from sklearn.datasets import fetch_california_housing\n",
    "from sklearn.ensemble import AdaBoostRegressor, RandomForestRegressor\n",
    "from sklearn.metrics import mean_squared_error\n",
    "from sklearn.model_selection import train_test_split\n",
    "from sklearn.tree import DecisionTreeRegressor\n",
    "import tensorflow\n",
    "from tensorflow import keras\n",
    "from tensorflow.keras import layers\n",
    "from tensorflow.keras import regularizers\n",
    "import xgboost as xgb"
   ]
  },
  {
   "cell_type": "code",
   "execution_count": 2,
   "id": "0637590c",
   "metadata": {},
   "outputs": [],
   "source": [
    "data = fetch_california_housing()\n",
    "X = data['data']\n",
    "Y = data['target']"
   ]
  },
  {
   "cell_type": "code",
   "execution_count": 3,
   "id": "9fdc0f01",
   "metadata": {},
   "outputs": [],
   "source": [
    "x_train, x_test, y_train, y_test = train_test_split(X, Y, test_size=0.2, random_state=42)\n",
    "performances = {el: 0 for el in ['xgboost', 'cnn', 'rf', 'adaboost']}"
   ]
  },
  {
   "cell_type": "markdown",
   "id": "7d464257",
   "metadata": {},
   "source": [
    "XGBoost Regressor"
   ]
  },
  {
   "cell_type": "code",
   "execution_count": 4,
   "id": "992b0d7b",
   "metadata": {},
   "outputs": [],
   "source": [
    "def xgb_regressor_mse(n_estimators, x_train, y_train, x_test, y_test):\n",
    "    model = xgb.XGBRegressor(objective='reg:squarederror', n_estimators=n_estimators)\n",
    "    model.fit(x_train, y_train)\n",
    "    preds = model.predict(x_test)\n",
    "    return mean_squared_error(preds, y_test)"
   ]
  },
  {
   "cell_type": "code",
   "execution_count": 5,
   "id": "61858465",
   "metadata": {},
   "outputs": [],
   "source": [
    "scores = []\n",
    "for est in [50, 100, 200, 250, 500, 1000]:\n",
    "    scores.append(xgb_regressor_mse(est, x_train, y_train, x_test, y_test))"
   ]
  },
  {
   "cell_type": "code",
   "execution_count": 6,
   "id": "ee3287de",
   "metadata": {},
   "outputs": [
    {
     "data": {
      "image/png": "[encoded data removed]",
      "text/plain": [
       "<Figure size 432x288 with 1 Axes>"
      ]
     },
     "metadata": {
      "needs_background": "light"
     },
     "output_type": "display_data"
    }
   ],
   "source": [
    "estimators = [50, 100, 200, 250, 500, 1000]\n",
    "plt.plot(estimators, scores)\n",
    "plt.show()"
   ]
  },
  {
   "cell_type": "code",
   "execution_count": 7,
   "id": "a516cf5f",
   "metadata": {},
   "outputs": [
    {
     "name": "stdout",
     "output_type": "stream",
     "text": [
      "Best MSE: 0.21910645998625627 (500 estimators)\n"
     ]
    }
   ],
   "source": [
    "print('Best MSE:', min(scores), '(' + str(estimators[scores.index(min(scores))]) + ' estimators)')\n",
    "performances['xgboost'] = min(scores)"
   ]
  },
  {
   "cell_type": "markdown",
   "id": "3d7cdb4f",
   "metadata": {},
   "source": [
    "Artificial Neural Networks (CNN)"
   ]
  },
  {
   "cell_type": "code",
   "execution_count": 8,
   "id": "bb1581b1",
   "metadata": {},
   "outputs": [],
   "source": [
    "nn_x_train = np.reshape(x_train, (x_train.shape[0], 1, x_train.shape[1]))\n",
    "nn_x_test = np.reshape(x_test, (x_test.shape[0], 1, x_test.shape[1]))"
   ]
  },
  {
   "cell_type": "code",
   "execution_count": 9,
   "id": "1677dd34",
   "metadata": {},
   "outputs": [
    {
     "name": "stdout",
     "output_type": "stream",
     "text": [
      "Epoch 1/200\n",
      "516/516 [==============================] - 3s 4ms/step - loss: 186.4586 - val_loss: 4.4017\n",
      "Epoch 2/200\n",
      "516/516 [==============================] - 2s 3ms/step - loss: 4.2915 - val_loss: 1.6613\n",
      "Epoch 3/200\n",
      "516/516 [==============================] - 2s 3ms/step - loss: 1.8704 - val_loss: 1.4396\n",
      "Epoch 4/200\n",
      "516/516 [==============================] - 2s 5ms/step - loss: 1.6484 - val_loss: 1.3093\n",
      "Epoch 5/200\n",
      "516/516 [==============================] - 2s 4ms/step - loss: 1.7183 - val_loss: 1.5113\n",
      "Epoch 6/200\n",
      "516/516 [==============================] - 1s 3ms/step - loss: 3.4196 - val_loss: 6.8763\n",
      "Epoch 7/200\n",
      "516/516 [==============================] - 2s 3ms/step - loss: 4.2515 - val_loss: 13.5736\n",
      "Epoch 8/200\n",
      "516/516 [==============================] - 2s 3ms/step - loss: 3.5762 - val_loss: 6.1079\n",
      "Epoch 9/200\n",
      "516/516 [==============================] - 2s 3ms/step - loss: 3.8796 - val_loss: 10.7226\n",
      "Epoch 10/200\n",
      "516/516 [==============================] - 2s 3ms/step - loss: 2.9787 - val_loss: 1.2379\n",
      "Epoch 11/200\n",
      "516/516 [==============================] - 2s 3ms/step - loss: 2.4305 - val_loss: 1.2112\n",
      "Epoch 12/200\n",
      "516/516 [==============================] - 2s 3ms/step - loss: 2.5961 - val_loss: 2.0634\n",
      "Epoch 13/200\n",
      "516/516 [==============================] - 2s 3ms/step - loss: 1.8191 - val_loss: 1.7361\n",
      "Epoch 14/200\n",
      "516/516 [==============================] - 1s 3ms/step - loss: 2.6440 - val_loss: 0.9364\n",
      "Epoch 15/200\n",
      "516/516 [==============================] - 2s 3ms/step - loss: 1.1175 - val_loss: 1.7770\n",
      "Epoch 16/200\n",
      "516/516 [==============================] - 1s 3ms/step - loss: 1.3142 - val_loss: 0.7566\n",
      "Epoch 17/200\n",
      "516/516 [==============================] - 2s 3ms/step - loss: 1.5641 - val_loss: 1.8469\n",
      "Epoch 18/200\n",
      "516/516 [==============================] - 2s 3ms/step - loss: 1.8074 - val_loss: 1.2513\n",
      "Epoch 19/200\n",
      "516/516 [==============================] - 2s 3ms/step - loss: 1.5077 - val_loss: 0.7415\n",
      "Epoch 20/200\n",
      "516/516 [==============================] - 2s 3ms/step - loss: 1.7731 - val_loss: 0.6785\n",
      "Epoch 21/200\n",
      "516/516 [==============================] - 2s 3ms/step - loss: 1.4549 - val_loss: 0.7020\n",
      "Epoch 22/200\n",
      "516/516 [==============================] - 2s 3ms/step - loss: 1.4862 - val_loss: 1.9792\n",
      "Epoch 23/200\n",
      "516/516 [==============================] - 2s 3ms/step - loss: 1.4492 - val_loss: 1.3584\n",
      "Epoch 24/200\n",
      "516/516 [==============================] - 2s 3ms/step - loss: 1.7269 - val_loss: 0.8216\n",
      "Epoch 25/200\n",
      "516/516 [==============================] - 2s 3ms/step - loss: 1.5099 - val_loss: 1.5178\n",
      "Epoch 26/200\n",
      "516/516 [==============================] - 2s 3ms/step - loss: 1.5345 - val_loss: 1.7019\n",
      "Epoch 27/200\n",
      "516/516 [==============================] - 2s 3ms/step - loss: 1.5338 - val_loss: 1.7093\n",
      "Epoch 28/200\n",
      "516/516 [==============================] - 2s 3ms/step - loss: 1.5666 - val_loss: 1.1566\n",
      "Epoch 29/200\n",
      "516/516 [==============================] - 2s 3ms/step - loss: 1.4069 - val_loss: 0.8968\n",
      "Epoch 30/200\n",
      "516/516 [==============================] - 2s 3ms/step - loss: 1.2959 - val_loss: 0.9133\n",
      "Epoch 31/200\n",
      "516/516 [==============================] - 2s 3ms/step - loss: 1.4688 - val_loss: 0.6385\n",
      "Epoch 32/200\n",
      "516/516 [==============================] - ETA: 0s - loss: 1.191 - 2s 3ms/step - loss: 1.2029 - val_loss: 0.7749\n",
      "Epoch 33/200\n",
      "516/516 [==============================] - 2s 3ms/step - loss: 1.2095 - val_loss: 0.7070\n",
      "Epoch 34/200\n",
      "516/516 [==============================] - 2s 3ms/step - loss: 1.1522 - val_loss: 0.7042\n",
      "Epoch 35/200\n",
      "516/516 [==============================] - 2s 4ms/step - loss: 1.1346 - val_loss: 0.6872\n",
      "Epoch 36/200\n",
      "516/516 [==============================] - 3s 6ms/step - loss: 1.1117 - val_loss: 0.6776\n",
      "Epoch 37/200\n",
      "516/516 [==============================] - 2s 4ms/step - loss: 1.0053 - val_loss: 0.7177\n",
      "Epoch 38/200\n",
      "516/516 [==============================] - 2s 3ms/step - loss: 1.2807 - val_loss: 0.6282\n",
      "Epoch 39/200\n",
      "516/516 [==============================] - 2s 3ms/step - loss: 0.9819 - val_loss: 0.6714\n",
      "Epoch 40/200\n",
      "516/516 [==============================] - 2s 3ms/step - loss: 0.9927 - val_loss: 0.6323\n",
      "Epoch 41/200\n",
      "516/516 [==============================] - 2s 3ms/step - loss: 0.9763 - val_loss: 0.6279\n",
      "Epoch 42/200\n",
      "516/516 [==============================] - 2s 3ms/step - loss: 0.9387 - val_loss: 0.6248\n",
      "Epoch 43/200\n",
      "516/516 [==============================] - 2s 3ms/step - loss: 0.9168 - val_loss: 0.6220\n",
      "Epoch 44/200\n",
      "516/516 [==============================] - 2s 3ms/step - loss: 0.8673 - val_loss: 0.6369\n",
      "Epoch 45/200\n",
      "516/516 [==============================] - 2s 3ms/step - loss: 1.0024 - val_loss: 0.6334\n",
      "Epoch 46/200\n",
      "516/516 [==============================] - 2s 3ms/step - loss: 0.8506 - val_loss: 0.6285\n",
      "Epoch 47/200\n",
      "516/516 [==============================] - 2s 3ms/step - loss: 0.8317 - val_loss: 0.6260\n",
      "Epoch 48/200\n",
      "516/516 [==============================] - 2s 3ms/step - loss: 0.8045 - val_loss: 0.6183\n",
      "Epoch 49/200\n",
      "516/516 [==============================] - 2s 3ms/step - loss: 0.8124 - val_loss: 0.6240\n",
      "Epoch 50/200\n",
      "516/516 [==============================] - 2s 3ms/step - loss: 0.8269 - val_loss: 0.6285\n",
      "Epoch 51/200\n",
      "516/516 [==============================] - 2s 3ms/step - loss: 1.1630 - val_loss: 0.6314\n",
      "Epoch 52/200\n",
      "516/516 [==============================] - 2s 4ms/step - loss: 0.6849 - val_loss: 0.6182\n",
      "Epoch 53/200\n",
      "516/516 [==============================] - 3s 5ms/step - loss: 0.7530 - val_loss: 0.6068\n",
      "Epoch 54/200\n",
      "516/516 [==============================] - 3s 5ms/step - loss: 0.7563 - val_loss: 0.6080\n",
      "Epoch 55/200\n",
      "516/516 [==============================] - 2s 4ms/step - loss: 0.7521 - val_loss: 0.6158\n",
      "Epoch 56/200\n",
      "516/516 [==============================] - 2s 3ms/step - loss: 0.7358 - val_loss: 0.6176\n",
      "Epoch 57/200\n",
      "516/516 [==============================] - 2s 3ms/step - loss: 0.7247 - val_loss: 0.6285\n",
      "Epoch 58/200\n",
      "516/516 [==============================] - 2s 4ms/step - loss: 0.7127 - val_loss: 0.6383\n",
      "Epoch 59/200\n",
      "516/516 [==============================] - 2s 3ms/step - loss: 0.6950 - val_loss: 0.6361\n",
      "Epoch 60/200\n",
      "516/516 [==============================] - 2s 3ms/step - loss: 0.6939 - val_loss: 0.6297\n",
      "Epoch 61/200\n",
      "516/516 [==============================] - 2s 3ms/step - loss: 0.6820 - val_loss: 0.6308\n",
      "Epoch 62/200\n",
      "516/516 [==============================] - 2s 3ms/step - loss: 0.6714 - val_loss: 0.6290\n",
      "Epoch 63/200\n",
      "516/516 [==============================] - 2s 3ms/step - loss: 0.6512 - val_loss: 0.5995\n",
      "Epoch 64/200\n",
      "516/516 [==============================] - 2s 3ms/step - loss: 0.6789 - val_loss: 0.5917\n",
      "Epoch 65/200\n",
      "516/516 [==============================] - 2s 3ms/step - loss: 0.6468 - val_loss: 0.5835\n",
      "Epoch 66/200\n",
      "516/516 [==============================] - 2s 4ms/step - loss: 0.6616 - val_loss: 0.5768\n",
      "Epoch 67/200\n",
      "516/516 [==============================] - 2s 3ms/step - loss: 0.6426 - val_loss: 0.5676\n",
      "Epoch 68/200\n",
      "516/516 [==============================] - 3s 5ms/step - loss: 0.6542 - val_loss: 0.5648\n",
      "Epoch 69/200\n",
      "516/516 [==============================] - 2s 4ms/step - loss: 0.6122 - val_loss: 0.5531\n",
      "Epoch 70/200\n",
      "516/516 [==============================] - 2s 3ms/step - loss: 0.5888 - val_loss: 0.5474\n",
      "Epoch 71/200\n",
      "516/516 [==============================] - 3s 6ms/step - loss: 0.6028 - val_loss: 0.5552\n",
      "Epoch 72/200\n",
      "516/516 [==============================] - 2s 4ms/step - loss: 0.5616 - val_loss: 0.5353\n",
      "Epoch 73/200\n",
      "516/516 [==============================] - 2s 4ms/step - loss: 0.5662 - val_loss: 0.5309\n",
      "Epoch 74/200\n",
      "516/516 [==============================] - 5s 10ms/step - loss: 0.5521 - val_loss: 0.5260\n",
      "Epoch 75/200\n",
      "516/516 [==============================] - 2s 4ms/step - loss: 0.5764 - val_loss: 0.5345\n",
      "Epoch 76/200\n",
      "516/516 [==============================] - 2s 3ms/step - loss: 0.5626 - val_loss: 0.5249\n",
      "Epoch 77/200\n",
      "516/516 [==============================] - 2s 3ms/step - loss: 0.5507 - val_loss: 0.5068\n",
      "Epoch 78/200\n",
      "516/516 [==============================] - 2s 3ms/step - loss: 0.5321 - val_loss: 0.5150\n",
      "Epoch 79/200\n",
      "516/516 [==============================] - 2s 3ms/step - loss: 0.5251 - val_loss: 0.5292\n",
      "Epoch 80/200\n",
      "516/516 [==============================] - 2s 3ms/step - loss: 0.5180 - val_loss: 0.5062\n",
      "Epoch 81/200\n"
     ]
    },
    {
     "name": "stdout",
     "output_type": "stream",
     "text": [
      "516/516 [==============================] - 1s 3ms/step - loss: 0.5150 - val_loss: 0.4969\n",
      "Epoch 82/200\n",
      "516/516 [==============================] - 2s 3ms/step - loss: 0.5131 - val_loss: 0.4897\n",
      "Epoch 83/200\n",
      "516/516 [==============================] - 1s 3ms/step - loss: 0.5099 - val_loss: 0.4896\n",
      "Epoch 84/200\n",
      "516/516 [==============================] - 1s 3ms/step - loss: 0.5106 - val_loss: 0.5465\n",
      "Epoch 85/200\n",
      "516/516 [==============================] - 1s 3ms/step - loss: 0.5069 - val_loss: 0.5692\n",
      "Epoch 86/200\n",
      "516/516 [==============================] - 1s 3ms/step - loss: 0.5111 - val_loss: 0.5132\n",
      "Epoch 87/200\n",
      "516/516 [==============================] - 2s 3ms/step - loss: 0.4999 - val_loss: 0.5421\n",
      "Epoch 88/200\n",
      "516/516 [==============================] - 2s 3ms/step - loss: 0.5012 - val_loss: 0.4812\n",
      "Epoch 89/200\n",
      "516/516 [==============================] - 2s 3ms/step - loss: 0.5040 - val_loss: 0.4805\n",
      "Epoch 90/200\n",
      "516/516 [==============================] - 1s 3ms/step - loss: 0.4960 - val_loss: 0.4872\n",
      "Epoch 91/200\n",
      "516/516 [==============================] - 1s 3ms/step - loss: 0.5019 - val_loss: 0.4788\n",
      "Epoch 92/200\n",
      "516/516 [==============================] - 2s 3ms/step - loss: 0.4942 - val_loss: 0.4952\n",
      "Epoch 93/200\n",
      "516/516 [==============================] - 1s 3ms/step - loss: 0.4879 - val_loss: 0.4885\n",
      "Epoch 94/200\n",
      "516/516 [==============================] - 2s 3ms/step - loss: 0.4926 - val_loss: 0.5083\n",
      "Epoch 95/200\n",
      "516/516 [==============================] - 2s 3ms/step - loss: 0.4959 - val_loss: 0.4795\n",
      "Epoch 96/200\n",
      "516/516 [==============================] - 1s 3ms/step - loss: 0.4840 - val_loss: 0.4890\n",
      "Epoch 97/200\n",
      "516/516 [==============================] - 1s 3ms/step - loss: 0.4944 - val_loss: 0.4994\n",
      "Epoch 98/200\n",
      "516/516 [==============================] - 2s 3ms/step - loss: 0.4937 - val_loss: 0.5093\n",
      "Epoch 99/200\n",
      "516/516 [==============================] - 2s 3ms/step - loss: 0.5044 - val_loss: 0.4966\n",
      "Epoch 100/200\n",
      "516/516 [==============================] - 2s 3ms/step - loss: 0.4981 - val_loss: 0.4996\n",
      "Epoch 101/200\n",
      "516/516 [==============================] - 1s 3ms/step - loss: 0.4959 - val_loss: 0.4899\n",
      "Epoch 102/200\n",
      "516/516 [==============================] - 2s 3ms/step - loss: 0.4915 - val_loss: 0.4942\n",
      "Epoch 103/200\n",
      "516/516 [==============================] - 2s 3ms/step - loss: 0.4882 - val_loss: 0.4885\n",
      "Epoch 104/200\n",
      "516/516 [==============================] - 1s 3ms/step - loss: 0.4849 - val_loss: 0.4854\n",
      "Epoch 105/200\n",
      "516/516 [==============================] - 2s 3ms/step - loss: 0.4811 - val_loss: 0.4854\n",
      "Epoch 106/200\n",
      "516/516 [==============================] - 1s 3ms/step - loss: 0.4927 - val_loss: 0.5411\n",
      "Epoch 107/200\n",
      "516/516 [==============================] - 1s 3ms/step - loss: 0.4969 - val_loss: 0.4973\n",
      "Epoch 108/200\n",
      "516/516 [==============================] - 2s 3ms/step - loss: 0.4993 - val_loss: 0.5130\n",
      "Epoch 109/200\n",
      "516/516 [==============================] - 2s 3ms/step - loss: 0.4940 - val_loss: 0.5120\n",
      "Epoch 110/200\n",
      "516/516 [==============================] - 2s 3ms/step - loss: 0.4936 - val_loss: 0.5108\n",
      "Epoch 111/200\n",
      "516/516 [==============================] - 2s 3ms/step - loss: 0.4930 - val_loss: 0.5126\n",
      "Epoch 112/200\n",
      "516/516 [==============================] - 2s 3ms/step - loss: 0.4929 - val_loss: 0.5112\n",
      "Epoch 113/200\n",
      "516/516 [==============================] - 2s 3ms/step - loss: 0.4926 - val_loss: 0.5145\n",
      "Epoch 114/200\n",
      "516/516 [==============================] - 2s 3ms/step - loss: 0.4927 - val_loss: 0.5137\n",
      "Epoch 115/200\n",
      "516/516 [==============================] - 2s 3ms/step - loss: 0.4931 - val_loss: 0.5147\n",
      "Epoch 116/200\n",
      "516/516 [==============================] - 1s 3ms/step - loss: 0.4918 - val_loss: 0.5145\n",
      "Epoch 117/200\n",
      "516/516 [==============================] - 2s 3ms/step - loss: 0.4851 - val_loss: 0.4942\n",
      "Epoch 118/200\n",
      "516/516 [==============================] - 2s 3ms/step - loss: 0.4840 - val_loss: 0.4953\n",
      "Epoch 119/200\n",
      "516/516 [==============================] - 1s 3ms/step - loss: 0.4829 - val_loss: 0.4923\n",
      "Epoch 120/200\n",
      "516/516 [==============================] - 2s 3ms/step - loss: 0.4817 - val_loss: 0.4888\n",
      "Epoch 121/200\n",
      "516/516 [==============================] - 1s 3ms/step - loss: 0.4808 - val_loss: 0.4801\n",
      "Epoch 122/200\n",
      "516/516 [==============================] - 2s 3ms/step - loss: 0.4803 - val_loss: 0.4862\n",
      "Epoch 123/200\n",
      "516/516 [==============================] - 1s 3ms/step - loss: 0.4796 - val_loss: 0.4849\n",
      "Epoch 124/200\n",
      "516/516 [==============================] - 2s 3ms/step - loss: 0.4798 - val_loss: 0.4869\n",
      "Epoch 125/200\n",
      "516/516 [==============================] - 2s 3ms/step - loss: 0.4766 - val_loss: 0.4855\n",
      "Epoch 126/200\n",
      "516/516 [==============================] - 2s 4ms/step - loss: 0.4766 - val_loss: 0.4873\n",
      "Epoch 127/200\n",
      "516/516 [==============================] - 2s 3ms/step - loss: 0.4750 - val_loss: 0.4873\n",
      "Epoch 128/200\n",
      "516/516 [==============================] - 1s 3ms/step - loss: 0.4749 - val_loss: 0.4880\n",
      "Epoch 129/200\n",
      "516/516 [==============================] - 3s 5ms/step - loss: 0.4748 - val_loss: 0.4860\n",
      "Epoch 130/200\n",
      "516/516 [==============================] - 2s 3ms/step - loss: 0.4736 - val_loss: 0.4849\n",
      "Epoch 131/200\n",
      "516/516 [==============================] - 2s 3ms/step - loss: 0.4742 - val_loss: 0.4858\n",
      "Epoch 132/200\n",
      "516/516 [==============================] - 2s 4ms/step - loss: 0.4739 - val_loss: 0.4866\n",
      "Epoch 133/200\n",
      "516/516 [==============================] - 2s 3ms/step - loss: 0.4735 - val_loss: 0.4860\n",
      "Epoch 134/200\n",
      "516/516 [==============================] - 2s 3ms/step - loss: 0.4735 - val_loss: 0.4830\n",
      "Epoch 135/200\n",
      "516/516 [==============================] - 2s 3ms/step - loss: 0.4727 - val_loss: 0.4864\n",
      "Epoch 136/200\n",
      "516/516 [==============================] - 2s 3ms/step - loss: 0.4737 - val_loss: 0.4862\n",
      "Epoch 137/200\n",
      "516/516 [==============================] - 2s 3ms/step - loss: 0.4709 - val_loss: 0.4758\n",
      "Epoch 138/200\n",
      "516/516 [==============================] - 2s 3ms/step - loss: 0.4703 - val_loss: 0.4825\n",
      "Epoch 139/200\n",
      "516/516 [==============================] - 2s 3ms/step - loss: 0.4674 - val_loss: 0.4749\n",
      "Epoch 140/200\n",
      "516/516 [==============================] - 2s 3ms/step - loss: 0.4677 - val_loss: 0.4679\n",
      "Epoch 141/200\n",
      "516/516 [==============================] - 2s 3ms/step - loss: 0.4666 - val_loss: 0.4835\n",
      "Epoch 142/200\n",
      "516/516 [==============================] - 2s 3ms/step - loss: 0.4680 - val_loss: 0.4685\n",
      "Epoch 143/200\n",
      "516/516 [==============================] - 2s 3ms/step - loss: 0.4648 - val_loss: 0.4680\n",
      "Epoch 144/200\n",
      "516/516 [==============================] - 2s 4ms/step - loss: 0.4658 - val_loss: 0.4682\n",
      "Epoch 145/200\n",
      "516/516 [==============================] - 2s 3ms/step - loss: 0.4647 - val_loss: 0.4704\n",
      "Epoch 146/200\n",
      "516/516 [==============================] - 2s 3ms/step - loss: 0.4639 - val_loss: 0.4685\n",
      "Epoch 147/200\n",
      "516/516 [==============================] - 2s 3ms/step - loss: 0.4638 - val_loss: 0.4693\n",
      "Epoch 148/200\n",
      "516/516 [==============================] - 2s 3ms/step - loss: 0.4640 - val_loss: 0.4685\n",
      "Epoch 149/200\n",
      "516/516 [==============================] - 2s 4ms/step - loss: 0.4628 - val_loss: 0.4696\n",
      "Epoch 150/200\n",
      "516/516 [==============================] - 2s 3ms/step - loss: 0.4626 - val_loss: 0.4649\n",
      "Epoch 151/200\n",
      "516/516 [==============================] - 2s 3ms/step - loss: 0.4626 - val_loss: 0.4668\n",
      "Epoch 152/200\n",
      "516/516 [==============================] - 2s 3ms/step - loss: 0.4617 - val_loss: 0.4652\n",
      "Epoch 153/200\n",
      "516/516 [==============================] - 2s 3ms/step - loss: 0.4613 - val_loss: 0.4632\n",
      "Epoch 154/200\n",
      "516/516 [==============================] - 2s 3ms/step - loss: 0.4616 - val_loss: 0.4695\n",
      "Epoch 155/200\n",
      "516/516 [==============================] - 2s 3ms/step - loss: 0.4602 - val_loss: 0.4686\n",
      "Epoch 156/200\n",
      "516/516 [==============================] - 2s 3ms/step - loss: 0.4596 - val_loss: 0.4683\n",
      "Epoch 157/200\n",
      "516/516 [==============================] - 2s 3ms/step - loss: 0.4595 - val_loss: 0.4649\n",
      "Epoch 158/200\n",
      "516/516 [==============================] - 2s 3ms/step - loss: 0.4584 - val_loss: 0.4748\n",
      "Epoch 159/200\n",
      "516/516 [==============================] - 2s 3ms/step - loss: 0.4585 - val_loss: 0.4659\n",
      "Epoch 160/200\n",
      "516/516 [==============================] - 2s 3ms/step - loss: 0.4579 - val_loss: 0.4650\n"
     ]
    },
    {
     "name": "stdout",
     "output_type": "stream",
     "text": [
      "Epoch 161/200\n",
      "516/516 [==============================] - 1s 3ms/step - loss: 0.4574 - val_loss: 0.4648\n",
      "Epoch 162/200\n",
      "516/516 [==============================] - 1s 3ms/step - loss: 0.4576 - val_loss: 0.4655\n",
      "Epoch 163/200\n",
      "516/516 [==============================] - 1s 3ms/step - loss: 0.4564 - val_loss: 0.4691\n",
      "Epoch 164/200\n",
      "516/516 [==============================] - 1s 3ms/step - loss: 0.4565 - val_loss: 0.4649\n",
      "Epoch 165/200\n",
      "516/516 [==============================] - 2s 3ms/step - loss: 0.4561 - val_loss: 0.4714\n",
      "Epoch 166/200\n",
      "516/516 [==============================] - 1s 3ms/step - loss: 0.4547 - val_loss: 0.4675\n",
      "Epoch 167/200\n",
      "516/516 [==============================] - 1s 3ms/step - loss: 0.4543 - val_loss: 0.4685\n",
      "Epoch 168/200\n",
      "516/516 [==============================] - 1s 3ms/step - loss: 0.4539 - val_loss: 0.4644\n",
      "Epoch 169/200\n",
      "516/516 [==============================] - 2s 3ms/step - loss: 0.4537 - val_loss: 0.4665\n",
      "Epoch 170/200\n",
      "516/516 [==============================] - 2s 3ms/step - loss: 0.4528 - val_loss: 0.4628\n",
      "Epoch 171/200\n",
      "516/516 [==============================] - 1s 3ms/step - loss: 0.4534 - val_loss: 0.4624\n",
      "Epoch 172/200\n",
      "516/516 [==============================] - 1s 3ms/step - loss: 0.4538 - val_loss: 0.4625\n",
      "Epoch 173/200\n",
      "516/516 [==============================] - 2s 3ms/step - loss: 0.4533 - val_loss: 0.4626\n",
      "Epoch 174/200\n",
      "516/516 [==============================] - 1s 3ms/step - loss: 0.4529 - val_loss: 0.4624\n",
      "Epoch 175/200\n",
      "516/516 [==============================] - 1s 3ms/step - loss: 0.4525 - val_loss: 0.4630\n",
      "Epoch 176/200\n",
      "516/516 [==============================] - 2s 3ms/step - loss: 0.4527 - val_loss: 0.4626\n",
      "Epoch 177/200\n",
      "516/516 [==============================] - 2s 3ms/step - loss: 0.4519 - val_loss: 0.4623\n",
      "Epoch 178/200\n",
      "516/516 [==============================] - 2s 3ms/step - loss: 0.4515 - val_loss: 0.4618\n",
      "Epoch 179/200\n",
      "516/516 [==============================] - 2s 3ms/step - loss: 0.4513 - val_loss: 0.4617\n",
      "Epoch 180/200\n",
      "516/516 [==============================] - 1s 3ms/step - loss: 0.4515 - val_loss: 0.4677\n",
      "Epoch 181/200\n",
      "516/516 [==============================] - 1s 3ms/step - loss: 0.4515 - val_loss: 0.4612\n",
      "Epoch 182/200\n",
      "516/516 [==============================] - 2s 3ms/step - loss: 0.4511 - val_loss: 0.4623\n",
      "Epoch 183/200\n",
      "516/516 [==============================] - 2s 3ms/step - loss: 0.4512 - val_loss: 0.4573\n",
      "Epoch 184/200\n",
      "516/516 [==============================] - 2s 3ms/step - loss: 0.4504 - val_loss: 0.4608\n",
      "Epoch 185/200\n",
      "516/516 [==============================] - 2s 3ms/step - loss: 0.4501 - val_loss: 0.4592\n",
      "Epoch 186/200\n",
      "516/516 [==============================] - 1s 3ms/step - loss: 0.4496 - val_loss: 0.4596\n",
      "Epoch 187/200\n",
      "516/516 [==============================] - 1s 3ms/step - loss: 0.4482 - val_loss: 0.4589\n",
      "Epoch 188/200\n",
      "516/516 [==============================] - 2s 3ms/step - loss: 0.4481 - val_loss: 0.4592\n",
      "Epoch 189/200\n",
      "516/516 [==============================] - 2s 4ms/step - loss: 0.4486 - val_loss: 0.4579\n",
      "Epoch 190/200\n",
      "516/516 [==============================] - 2s 3ms/step - loss: 0.4472 - val_loss: 0.4576\n",
      "Epoch 191/200\n",
      "516/516 [==============================] - 2s 4ms/step - loss: 0.4480 - val_loss: 0.4576\n",
      "Epoch 192/200\n",
      "516/516 [==============================] - 2s 5ms/step - loss: 0.4476 - val_loss: 0.4577\n",
      "Epoch 193/200\n",
      "516/516 [==============================] - 5s 9ms/step - loss: 0.4472 - val_loss: 0.4576\n",
      "Epoch 194/200\n",
      "516/516 [==============================] - 3s 6ms/step - loss: 0.4467 - val_loss: 0.4576\n",
      "Epoch 195/200\n",
      "516/516 [==============================] - 2s 4ms/step - loss: 0.4462 - val_loss: 0.4577\n",
      "Epoch 196/200\n",
      "516/516 [==============================] - 2s 4ms/step - loss: 0.4460 - val_loss: 0.4578\n",
      "Epoch 197/200\n",
      "516/516 [==============================] - 2s 4ms/step - loss: 0.4467 - val_loss: 0.4652\n",
      "Epoch 198/200\n",
      "516/516 [==============================] - 2s 4ms/step - loss: 0.4473 - val_loss: 0.4581\n",
      "Epoch 199/200\n",
      "516/516 [==============================] - 2s 4ms/step - loss: 0.4450 - val_loss: 0.4582\n",
      "Epoch 200/200\n",
      "516/516 [==============================] - 2s 4ms/step - loss: 0.4476 - val_loss: 0.4578\n"
     ]
    }
   ],
   "source": [
    "model = keras.models.Sequential([\n",
    "    layers.Conv1D(filters=20, kernel_size=4, activation='elu', padding='same', input_shape=(nn_x_train.shape[1], nn_x_train.shape[2])),\n",
    "    layers.Flatten(),\n",
    "    layers.Dropout(0),\n",
    "    layers.Dense(units=8, activation='elu'),\n",
    "    layers.Dense(units=1)\n",
    "])\n",
    "model.compile(optimizer='adam', loss='mse')\n",
    "history = model.fit(nn_x_train, y_train, epochs=200, validation_data=(nn_x_test, y_test), shuffle=False)"
   ]
  },
  {
   "cell_type": "code",
   "execution_count": 10,
   "id": "3588d4d8",
   "metadata": {},
   "outputs": [
    {
     "data": {
      "image/png": "[encoded data removed]",
      "text/plain": [
       "<Figure size 432x288 with 1 Axes>"
      ]
     },
     "metadata": {
      "needs_background": "light"
     },
     "output_type": "display_data"
    }
   ],
   "source": [
    "plt.plot(history.history['loss'])\n",
    "plt.plot(history.history['val_loss'])\n",
    "ax = plt.gca()\n",
    "ax.set_ylim([0, 2])\n",
    "plt.show()"
   ]
  },
  {
   "cell_type": "code",
   "execution_count": 11,
   "id": "f212332e",
   "metadata": {},
   "outputs": [
    {
     "name": "stdout",
     "output_type": "stream",
     "text": [
      "MSE: 0.4577863812446594\n"
     ]
    }
   ],
   "source": [
    "print('MSE:', history.history['val_loss'][-1])\n",
    "performances['cnn'] = history.history['val_loss'][-1]"
   ]
  },
  {
   "cell_type": "markdown",
   "id": "a6c63dd0",
   "metadata": {},
   "source": [
    "Random Forest Regressor"
   ]
  },
  {
   "cell_type": "code",
   "execution_count": 12,
   "id": "f5234cd7",
   "metadata": {},
   "outputs": [],
   "source": [
    "def rf_regressor_mse(n_estimators, x_train, y_train, x_test, y_test):\n",
    "    rf_model = RandomForestRegressor(n_estimators=n_estimators)\n",
    "    rf_model.fit(x_train, y_train)\n",
    "    rf_pred = rf_model.predict(x_test)\n",
    "    return mean_squared_error(rf_pred, y_test)"
   ]
  },
  {
   "cell_type": "code",
   "execution_count": 13,
   "id": "06676a60",
   "metadata": {},
   "outputs": [],
   "source": [
    "rf_scores = []\n",
    "for est in [20, 50, 100, 150, 200, 250, 500]:\n",
    "    rf_scores.append(rf_regressor_mse(est, x_train, y_train, x_test, y_test))"
   ]
  },
  {
   "cell_type": "code",
   "execution_count": 14,
   "id": "251de15e",
   "metadata": {},
   "outputs": [
    {
     "data": {
      "image/png": "[encoded data removed]",
      "text/plain": [
       "<Figure size 432x288 with 1 Axes>"
      ]
     },
     "metadata": {
      "needs_background": "light"
     },
     "output_type": "display_data"
    }
   ],
   "source": [
    "rf_estimators = [20, 50, 100, 150, 200, 250, 500]\n",
    "plt.plot(rf_estimators, rf_scores)\n",
    "plt.show()"
   ]
  },
  {
   "cell_type": "code",
   "execution_count": 15,
   "id": "75ed4be0",
   "metadata": {},
   "outputs": [
    {
     "name": "stdout",
     "output_type": "stream",
     "text": [
      "Best MSE: 0.25039605957849626 (250 estimators)\n"
     ]
    }
   ],
   "source": [
    "print('Best MSE:', min(rf_scores), '(' + str(rf_estimators[rf_scores.index(min(rf_scores))]) + ' estimators)')\n",
    "performances['rf'] = min(rf_scores)"
   ]
  },
  {
   "cell_type": "markdown",
   "id": "27215f63",
   "metadata": {},
   "source": [
    "AdaBoost Regressor (with Decision Tree Regressor)"
   ]
  },
  {
   "cell_type": "code",
   "execution_count": 16,
   "id": "fb59ebbd",
   "metadata": {},
   "outputs": [],
   "source": [
    "def adaboost_regressor_mse(n_estimators, max_depth, x_train, y_train, x_test, y_test):\n",
    "    dt_regr = DecisionTreeRegressor(max_depth=max_depth)\n",
    "    regr = AdaBoostRegressor(dt_regr, n_estimators=n_estimators, random_state=42, loss='square')\n",
    "    regr.fit(x_train, y_train)\n",
    "    regr_pred = regr.predict(x_test)\n",
    "    return mean_squared_error(regr_pred, y_test)"
   ]
  },
  {
   "cell_type": "code",
   "execution_count": 17,
   "id": "e329d314",
   "metadata": {},
   "outputs": [],
   "source": [
    "depths = [i for i in range(1, 8)]\n",
    "regr_scores = {el: [] for el in depths}\n",
    "for est in [1, 2, 5, 7, 10, 15, 20, 25, 50, 100, 250, 500]:\n",
    "    for d in depths:\n",
    "        regr_scores[d].append(adaboost_regressor_mse(est, d, x_train, y_train, x_test, y_test))"
   ]
  },
  {
   "cell_type": "code",
   "execution_count": 18,
   "id": "97d2e04a",
   "metadata": {},
   "outputs": [
    {
     "data": {
      "image/png": "[encoded data removed]",
      "text/plain": [
       "<Figure size 432x288 with 1 Axes>"
      ]
     },
     "metadata": {
      "needs_background": "light"
     },
     "output_type": "display_data"
    }
   ],
   "source": [
    "regr_estimators = [1, 2, 5, 7, 10, 15, 20, 25, 50, 100, 250, 500]\n",
    "for d in depths:\n",
    "    plt.plot(regr_estimators, regr_scores[d], label='max_depth ' + str(d))\n",
    "plt.legend()\n",
    "plt.show()"
   ]
  },
  {
   "cell_type": "code",
   "execution_count": 19,
   "id": "613e235e",
   "metadata": {},
   "outputs": [],
   "source": [
    "def find_best_params(scores, estimators):\n",
    "    min_mse = scores[list(scores.keys())[0]][0]\n",
    "    min_depth = list(scores.keys())[0]\n",
    "    min_estimator = estimators[0]\n",
    "    for key in scores.keys():\n",
    "        curr_min = min(scores[key])\n",
    "        if curr_min < min_mse:\n",
    "            min_mse = curr_min\n",
    "            min_depth = key\n",
    "            min_estimator = estimators[scores[key].index(curr_min)]\n",
    "    return min_mse, min_depth, min_estimator"
   ]
  },
  {
   "cell_type": "code",
   "execution_count": 20,
   "id": "353351b0",
   "metadata": {},
   "outputs": [
    {
     "name": "stdout",
     "output_type": "stream",
     "text": [
      "Best MSE: 0.3654291699286652 (10 estimators, depth of 7)\n"
     ]
    }
   ],
   "source": [
    "min_mse, min_depth, min_estimator = find_best_params(regr_scores, regr_estimators)\n",
    "print('Best MSE:', min_mse, '(' + str(min_estimator) + ' estimators, depth of ' + str(min_depth) + ')')\n",
    "performances['adaboost'] = min_mse"
   ]
  },
  {
   "cell_type": "markdown",
   "id": "b4b312a5",
   "metadata": {},
   "source": [
    "Results Plotting"
   ]
  },
  {
   "cell_type": "code",
   "execution_count": 21,
   "id": "f5f27175",
   "metadata": {},
   "outputs": [],
   "source": [
    "def plot_performances(perfs, title=''):\n",
    "    labels = list(perfs.keys())\n",
    "    res = []\n",
    "    for key in labels:\n",
    "        res.append(perfs[key])\n",
    "    \n",
    "    fig, ax = plt.subplots(figsize=(10, 5))\n",
    "    plt.bar(labels, res)\n",
    "    ax.set_title(title)\n",
    "    plt.show()"
   ]
  },
  {
   "cell_type": "code",
   "execution_count": 22,
   "id": "ffd659ab",
   "metadata": {},
   "outputs": [
    {
     "data": {
      "image/png": "[encoded data removed]",
      "text/plain": [
       "<Figure size 720x360 with 1 Axes>"
      ]
     },
     "metadata": {
      "needs_background": "light"
     },
     "output_type": "display_data"
    }
   ],
   "source": [
    "plot_performances(performances, 'Mean Squared Error')"
   ]
  }
 ],
 "metadata": {
  "kernelspec": {
   "display_name": "Python 3",
   "language": "python",
   "name": "python3"
  },
  "language_info": {
   "codemirror_mode": {
    "name": "ipython",
    "version": 3
   },
   "file_extension": ".py",
   "mimetype": "text/x-python",
   "name": "python",
   "nbconvert_exporter": "python",
   "pygments_lexer": "ipython3",
   "version": "3.8.10"
  }
 },
 "nbformat": 4,
 "nbformat_minor": 5
}
