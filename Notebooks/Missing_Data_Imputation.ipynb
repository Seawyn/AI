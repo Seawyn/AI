{
 "cells": [
  {
   "cell_type": "markdown",
   "metadata": {
    "id": "_no9IfOhL6Fu"
   },
   "source": [
    "TODO:  \n",
    "- Normalize and denormalize data (Multilayer Perceptron)\n",
    "- Adapt to multivariate scenarios (Multilayer Perceptron)\n",
    "- Other types of missingness\n",
    "- Other imputation methods"
   ]
  },
  {
   "cell_type": "code",
   "execution_count": 1,
   "metadata": {
    "id": "mlZIclWcSuZD"
   },
   "outputs": [],
   "source": [
    "import copy\n",
    "import matplotlib.pyplot as plt\n",
    "import math\n",
    "import numpy as np\n",
    "import pandas\n",
    "import random\n",
    "import sys\n",
    "import tensorflow\n",
    "from tensorflow import keras\n",
    "from tensorflow.keras import layers, activations\n",
    "import warnings\n",
    "\n",
    "# Handle version difference\n",
    "import sklearn.neighbors._base\n",
    "sys.modules['sklearn.neighbors.base'] = sklearn.neighbors._base\n",
    "from missingpy import MissForest\n",
    "\n",
    "data = pandas.read_csv('../Datasets/Gas_Furnace_Data.csv')\n",
    "performances = {}"
   ]
  },
  {
   "cell_type": "markdown",
   "metadata": {
    "id": "reBXc_zUIb5p"
   },
   "source": [
    "Helper Functions"
   ]
  },
  {
   "cell_type": "code",
   "execution_count": 2,
   "metadata": {
    "id": "Q776tYYQVUil"
   },
   "outputs": [],
   "source": [
    "def remove_random_values(data, values=10):\n",
    "  to_return = copy.deepcopy(data)\n",
    "  removed = []\n",
    "  for i in range(values):\n",
    "    ri = random.randint(data.index.start, data.index.stop - 1)\n",
    "    while ri in removed:\n",
    "      ri = random.randint(data.index.start, data.index.stop - 1)\n",
    "    removed.append(ri)\n",
    "    to_return.iloc[ri] = None\n",
    "  return to_return\n",
    "\n",
    "def get_missing_indices(data):\n",
    "  return data.index[data.apply(np.isnan)]\n",
    "\n",
    "def get_missing_indices_multiple_cols(data):\n",
    "  ind = None\n",
    "  for col in data.columns:\n",
    "    if ind is None:\n",
    "      ind = get_missing_indices(data[col])\n",
    "    else:\n",
    "      ind = ind.append(get_missing_indices(data[col]))\n",
    "  to_return = list(set(ind))\n",
    "  to_return.sort()\n",
    "  return to_return\n",
    "\n",
    "def plot_imputed(original_data, missing_indexes, imputed):\n",
    "  plt.plot(np.arange(len(original_data)), original_data)\n",
    "  plt.scatter(missing_indexes, imputed.iloc[missing_indexes])\n",
    "  plt.show()\n",
    "\n",
    "# MAE = (1 / n) * sum_{i = 1}^n abs(y_i - hat{y_i})\n",
    "def get_mae_of_imputed(original_data, missing_indexes, imputed):\n",
    "  original = original_data[missing_indexes]\n",
    "  missing = imputed.iloc[missing_indexes]\n",
    "  mae = 0\n",
    "  for el in missing_indexes:\n",
    "    mae += abs(original[el] - missing[el])\n",
    "  return mae / len(original)"
   ]
  },
  {
   "cell_type": "code",
   "execution_count": 3,
   "metadata": {
    "id": "J7mCeQxhbVpT"
   },
   "outputs": [],
   "source": [
    "data_missing = remove_random_values(data['%C02'], values=20)\n",
    "missing_indices = get_missing_indices(data_missing)"
   ]
  },
  {
   "cell_type": "markdown",
   "metadata": {
    "id": "C-MvG-qwWmMX"
   },
   "source": [
    "Univariate Imputation"
   ]
  },
  {
   "cell_type": "markdown",
   "metadata": {
    "id": "6i2BWhdUYmdZ"
   },
   "source": [
    "First Method: Spline Interpolation"
   ]
  },
  {
   "cell_type": "code",
   "execution_count": 4,
   "metadata": {
    "id": "L2J2rU24Yvh-"
   },
   "outputs": [],
   "source": [
    "def spline_interpolation(data, order=2):\n",
    "  return data.interpolate(method=\"spline\", order=order)"
   ]
  },
  {
   "cell_type": "code",
   "execution_count": 5,
   "metadata": {
    "colab": {
     "base_uri": "https://localhost:8080/"
    },
    "id": "PnsVzvIkjAJc",
    "outputId": "da56ee1b-93d9-4f7d-bb1a-1f347fd62092"
   },
   "outputs": [
    {
     "data": {
      "text/plain": [
       "Int64Index([  6,  12,  17,  19,  37,  67, 111, 154, 168, 173, 187, 210, 221,\n",
       "            223, 241, 242, 270, 281, 292, 295],\n",
       "           dtype='int64')"
      ]
     },
     "execution_count": 5,
     "metadata": {},
     "output_type": "execute_result"
    }
   ],
   "source": [
    "get_missing_indices(data_missing)"
   ]
  },
  {
   "cell_type": "code",
   "execution_count": 6,
   "metadata": {
    "colab": {
     "base_uri": "https://localhost:8080/",
     "height": 265
    },
    "id": "VrSrsOoca3gh",
    "outputId": "1c4e3f60-0763-4b56-cae8-e11e798f5f05"
   },
   "outputs": [
    {
     "data": {
      "image/png": "[encoded data removed]",
      "text/plain": [
       "<Figure size 432x288 with 1 Axes>"
      ]
     },
     "metadata": {
      "needs_background": "light"
     },
     "output_type": "display_data"
    }
   ],
   "source": [
    "imputed_spline = spline_interpolation(data_missing)\n",
    "plot_imputed(data['%C02'], missing_indices, imputed_spline)"
   ]
  },
  {
   "cell_type": "code",
   "execution_count": 7,
   "metadata": {
    "colab": {
     "base_uri": "https://localhost:8080/"
    },
    "id": "tpF1ALi6Hh37",
    "outputId": "44f68099-81c4-4ee7-9912-d5369ff66c58"
   },
   "outputs": [
    {
     "name": "stdout",
     "output_type": "stream",
     "text": [
      "MAE (Spline Interpolation): 1.0012831603805759\n"
     ]
    }
   ],
   "source": [
    "mae_spline = get_mae_of_imputed(data['%C02'], missing_indices, imputed_spline)\n",
    "print(\"MAE (Spline Interpolation):\", mae_spline)\n",
    "performances['spline'] = mae_spline"
   ]
  },
  {
   "cell_type": "markdown",
   "metadata": {
    "id": "Rm8ibbHhILPE"
   },
   "source": [
    "Second Method: Mean of N Nearest Values Imputation"
   ]
  },
  {
   "cell_type": "code",
   "execution_count": 8,
   "metadata": {
    "id": "GUyupxnqIKx8"
   },
   "outputs": [],
   "source": [
    "def get_nearest_n(data, ind, n):\n",
    "  nearest = []\n",
    "  for i in range(ind - 1, ind - n - 1, -1):\n",
    "    if i in data.index and not math.isnan(data[i]):\n",
    "      nearest.append(i)\n",
    "  for i in range(ind + 1, ind + n + 1, 1):\n",
    "    if i in data.index and not math.isnan(data[i]):\n",
    "      nearest.append(i)\n",
    "  return nearest\n",
    "\n",
    "def nearest_mean_imputation(data, neighbourhood_size=2):\n",
    "  to_return = copy.deepcopy(data)\n",
    "  missing_indices = get_missing_indices(data)\n",
    "  for el in missing_indices:\n",
    "    nearest_indexes = get_nearest_n(data, el, neighbourhood_size)\n",
    "    to_return[el] = np.mean(data.iloc[nearest_indexes])\n",
    "  return to_return"
   ]
  },
  {
   "cell_type": "code",
   "execution_count": 9,
   "metadata": {
    "colab": {
     "base_uri": "https://localhost:8080/",
     "height": 265
    },
    "id": "NIQZpNLw6fwc",
    "outputId": "e893bf03-bffb-4449-f7cc-a6ec2b8473de"
   },
   "outputs": [
    {
     "data": {
      "image/png": "[encoded data removed]",
      "text/plain": [
       "<Figure size 432x288 with 1 Axes>"
      ]
     },
     "metadata": {
      "needs_background": "light"
     },
     "output_type": "display_data"
    }
   ],
   "source": [
    "imputed_nearest_mean = nearest_mean_imputation(data_missing)\n",
    "plot_imputed(data['%C02'], missing_indices, imputed_nearest_mean)"
   ]
  },
  {
   "cell_type": "code",
   "execution_count": 10,
   "metadata": {
    "colab": {
     "base_uri": "https://localhost:8080/"
    },
    "id": "_YSpIvOe9909",
    "outputId": "fb8975af-8a5b-41e9-bb7f-16723a1e3bfa"
   },
   "outputs": [
    {
     "name": "stdout",
     "output_type": "stream",
     "text": [
      "MAE (Nearest Mean Imputation): 0.305833333333333\n"
     ]
    }
   ],
   "source": [
    "mae_nearest_mean = get_mae_of_imputed(data['%C02'], missing_indices, imputed_nearest_mean)\n",
    "print(\"MAE (Nearest Mean Imputation):\", mae_nearest_mean)\n",
    "performances['nearest_mean'] = mae_nearest_mean"
   ]
  },
  {
   "cell_type": "markdown",
   "metadata": {
    "id": "oijOyZ-R-VOb"
   },
   "source": [
    "Third Method: Multilayer Perceptron"
   ]
  },
  {
   "cell_type": "code",
   "execution_count": 11,
   "metadata": {
    "id": "w6jjf5v7-iLi"
   },
   "outputs": [],
   "source": [
    "def train_test_imputation_sets(data, ar_lag=1, order=\"forwards\"):\n",
    "  missing_data = copy.deepcopy(data)\n",
    "  # Input and Output with no Missing Values \n",
    "  train_x = pandas.DataFrame()\n",
    "  train_y = pandas.DataFrame()\n",
    "  # Output with Missing Values\n",
    "  test_x = pandas.DataFrame()\n",
    "  test_y = pandas.DataFrame()\n",
    "  # Input and Output with Missing Values\n",
    "  both_x = pandas.DataFrame()\n",
    "  both_y = pandas.DataFrame()\n",
    "  y = missing_data.shift(-1)\n",
    "  y.drop(y.tail(1).index, inplace=True)\n",
    "  if ar_lag > 1:\n",
    "    for i in range(1, ar_lag):\n",
    "      to_append = missing_data.shift(i).fillna(0)\n",
    "      for col in to_append.columns:\n",
    "        to_append = to_append.rename(columns = {col: col + \"-\" + str(i)})\n",
    "      missing_data = missing_data.join(to_append)\n",
    "  missing_indices = get_missing_indices_multiple_cols(data)\n",
    "  missing_indices_y = get_missing_indices_multiple_cols(y)\n",
    "  for i in range(len(missing_data) - 1):\n",
    "    # Input and Output have no Missing Values\n",
    "    if i not in missing_indices and i not in missing_indices_y:\n",
    "      train_x = train_x.append(missing_data.iloc[i])\n",
    "      train_y = train_y.append(y.iloc[i])\n",
    "    # Input has no Missing Values\n",
    "    elif i not in missing_indices:\n",
    "      test_x = test_x.append(missing_data.iloc[i])\n",
    "      test_y = test_y.append(y.iloc[i])\n",
    "    # Input and Output have Missing Values\n",
    "    elif i in missing_indices and i in missing_indices_y:\n",
    "      both_x = both_x.append(missing_data.iloc[i])\n",
    "      both_y = both_y.append(y.iloc[i])\n",
    "  return train_x, train_y, test_x, test_y, both_x, both_y\n",
    "\n",
    "# TODO: Change to use training/test sets\n",
    "def mlp_imputation(data, model, test_x, both_x, ar_lag=1):\n",
    "  to_return = copy.deepcopy(data)\n",
    "  for i in test_x.index:\n",
    "    val = model.predict(to_return.loc[i].values.reshape((1, 1, to_return.loc[i].values.shape[0])))\n",
    "    to_return.loc[i + 1] = val\n",
    "  # Generates missing sets until there are none\n",
    "  # A little bit bruteforce...\n",
    "  while len(both_x) != 0 and len(test_x) != 0:\n",
    "    _, _, test_x, _, both_x, _ = train_test_imputation_sets(to_return, ar_lag)\n",
    "    for i in test_x.index:\n",
    "      val = model.predict(to_return.loc[i].values.reshape((1, 1, to_return.loc[i].values.shape[0])))\n",
    "      to_return.loc[i + 1] = val\n",
    "  return to_return"
   ]
  },
  {
   "cell_type": "code",
   "execution_count": 12,
   "metadata": {
    "id": "c_xywMGfX1Eg"
   },
   "outputs": [],
   "source": [
    "ar_lag = 1\n",
    "train_x, train_y, test_x, test_y, both_x, both_y = train_test_imputation_sets(pandas.DataFrame(data_missing), ar_lag=ar_lag)\n",
    "train_x_re = np.reshape(train_x.values, (train_x.shape[0], 1, train_x.shape[1]))\n",
    "test_x_re = np.reshape(test_x.values, (test_x.shape[0], 1, test_x.shape[1]))\n",
    "train_y_re = train_y.values\n",
    "test_y_re = test_y.values"
   ]
  },
  {
   "cell_type": "code",
   "execution_count": 13,
   "metadata": {
    "colab": {
     "base_uri": "https://localhost:8080/"
    },
    "id": "KjGNtkCgpUfO",
    "outputId": "34b8fa6d-6e8b-4208-c266-65cb69470667"
   },
   "outputs": [
    {
     "name": "stdout",
     "output_type": "stream",
     "text": [
      "Epoch 1/100\n",
      "9/9 [==============================] - 2s 6ms/step - loss: 64.0068\n",
      "Epoch 2/100\n",
      "9/9 [==============================] - 0s 5ms/step - loss: 61.9971\n",
      "Epoch 3/100\n",
      "9/9 [==============================] - 0s 6ms/step - loss: 60.1429\n",
      "Epoch 4/100\n",
      "9/9 [==============================] - 0s 5ms/step - loss: 58.3078\n",
      "Epoch 5/100\n",
      "9/9 [==============================] - 0s 6ms/step - loss: 56.5993\n",
      "Epoch 6/100\n",
      "9/9 [==============================] - 0s 6ms/step - loss: 55.0893\n",
      "Epoch 7/100\n",
      "9/9 [==============================] - 0s 6ms/step - loss: 53.5843\n",
      "Epoch 8/100\n",
      "9/9 [==============================] - 0s 6ms/step - loss: 52.0758\n",
      "Epoch 9/100\n",
      "9/9 [==============================] - 0s 9ms/step - loss: 50.5405\n",
      "Epoch 10/100\n",
      "9/9 [==============================] - 0s 5ms/step - loss: 48.9518\n",
      "Epoch 11/100\n",
      "9/9 [==============================] - 0s 6ms/step - loss: 47.2818\n",
      "Epoch 12/100\n",
      "9/9 [==============================] - 0s 6ms/step - loss: 45.5015\n",
      "Epoch 13/100\n",
      "9/9 [==============================] - 0s 10ms/step - loss: 43.5797\n",
      "Epoch 14/100\n",
      "9/9 [==============================] - 0s 6ms/step - loss: 41.4826\n",
      "Epoch 15/100\n",
      "9/9 [==============================] - 0s 10ms/step - loss: 39.1746\n",
      "Epoch 16/100\n",
      "9/9 [==============================] - 0s 9ms/step - loss: 36.6194\n",
      "Epoch 17/100\n",
      "9/9 [==============================] - 0s 7ms/step - loss: 33.7822\n",
      "Epoch 18/100\n",
      "9/9 [==============================] - 0s 8ms/step - loss: 30.6310\n",
      "Epoch 19/100\n",
      "9/9 [==============================] - 0s 8ms/step - loss: 27.1363\n",
      "Epoch 20/100\n",
      "9/9 [==============================] - 0s 8ms/step - loss: 23.3511\n",
      "Epoch 21/100\n",
      "9/9 [==============================] - 0s 7ms/step - loss: 19.5716\n",
      "Epoch 22/100\n",
      "9/9 [==============================] - 0s 5ms/step - loss: 15.4529\n",
      "Epoch 23/100\n",
      "9/9 [==============================] - 0s 6ms/step - loss: 10.9624\n",
      "Epoch 24/100\n",
      "9/9 [==============================] - ETA: 0s - loss: 7.054 - 0s 6ms/step - loss: 6.0773\n",
      "Epoch 25/100\n",
      "9/9 [==============================] - 0s 6ms/step - loss: 1.3015\n",
      "Epoch 26/100\n",
      "9/9 [==============================] - 0s 8ms/step - loss: 1.5131\n",
      "Epoch 27/100\n",
      "9/9 [==============================] - 0s 6ms/step - loss: 0.7429\n",
      "Epoch 28/100\n",
      "9/9 [==============================] - ETA: 0s - loss: 0.619 - 0s 6ms/step - loss: 0.6603\n",
      "Epoch 29/100\n",
      "9/9 [==============================] - 0s 6ms/step - loss: 0.6648\n",
      "Epoch 30/100\n",
      "9/9 [==============================] - 0s 9ms/step - loss: 0.6202\n",
      "Epoch 31/100\n",
      "9/9 [==============================] - 0s 6ms/step - loss: 0.5735\n",
      "Epoch 32/100\n",
      "9/9 [==============================] - 0s 5ms/step - loss: 0.5825\n",
      "Epoch 33/100\n",
      "9/9 [==============================] - 0s 6ms/step - loss: 0.5828\n",
      "Epoch 34/100\n",
      "9/9 [==============================] - 0s 6ms/step - loss: 0.5776\n",
      "Epoch 35/100\n",
      "9/9 [==============================] - 0s 5ms/step - loss: 0.5805\n",
      "Epoch 36/100\n",
      "9/9 [==============================] - 0s 6ms/step - loss: 0.5778\n",
      "Epoch 37/100\n",
      "9/9 [==============================] - 0s 9ms/step - loss: 0.5786A: 0s - loss: 0.574\n",
      "Epoch 38/100\n",
      "9/9 [==============================] - 0s 8ms/step - loss: 0.5790\n",
      "Epoch 39/100\n",
      "9/9 [==============================] - 0s 8ms/step - loss: 0.5794\n",
      "Epoch 40/100\n",
      "9/9 [==============================] - 0s 6ms/step - loss: 0.5789\n",
      "Epoch 41/100\n",
      "9/9 [==============================] - 0s 5ms/step - loss: 0.5781\n",
      "Epoch 42/100\n",
      "9/9 [==============================] - 0s 6ms/step - loss: 0.5781\n",
      "Epoch 43/100\n",
      "9/9 [==============================] - 0s 8ms/step - loss: 0.5783\n",
      "Epoch 44/100\n",
      "9/9 [==============================] - 0s 6ms/step - loss: 0.5786\n",
      "Epoch 45/100\n",
      "9/9 [==============================] - 0s 5ms/step - loss: 0.5789\n",
      "Epoch 46/100\n",
      "9/9 [==============================] - 0s 5ms/step - loss: 0.5792\n",
      "Epoch 47/100\n",
      "9/9 [==============================] - 0s 8ms/step - loss: 0.5795\n",
      "Epoch 48/100\n",
      "9/9 [==============================] - 0s 9ms/step - loss: 0.5790\n",
      "Epoch 49/100\n",
      "9/9 [==============================] - 0s 9ms/step - loss: 0.5782\n",
      "Epoch 50/100\n",
      "9/9 [==============================] - 0s 8ms/step - loss: 0.5781\n",
      "Epoch 51/100\n",
      "9/9 [==============================] - 0s 5ms/step - loss: 0.5783\n",
      "Epoch 52/100\n",
      "9/9 [==============================] - 0s 5ms/step - loss: 0.5786\n",
      "Epoch 53/100\n",
      "9/9 [==============================] - 0s 5ms/step - loss: 0.5789\n",
      "Epoch 54/100\n",
      "9/9 [==============================] - 0s 5ms/step - loss: 0.5792\n",
      "Epoch 55/100\n",
      "9/9 [==============================] - 0s 5ms/step - loss: 0.5796\n",
      "Epoch 56/100\n",
      "9/9 [==============================] - 0s 6ms/step - loss: 0.5799\n",
      "Epoch 57/100\n",
      "9/9 [==============================] - 0s 6ms/step - loss: 0.5794\n",
      "Epoch 58/100\n",
      "9/9 [==============================] - 0s 5ms/step - loss: 0.5785\n",
      "Epoch 59/100\n",
      "9/9 [==============================] - 0s 6ms/step - loss: 0.5785\n",
      "Epoch 60/100\n",
      "9/9 [==============================] - 0s 9ms/step - loss: 0.5787A: 0s - loss: 0.574\n",
      "Epoch 61/100\n",
      "9/9 [==============================] - 0s 5ms/step - loss: 0.5790\n",
      "Epoch 62/100\n",
      "9/9 [==============================] - 0s 7ms/step - loss: 0.5793\n",
      "Epoch 63/100\n",
      "9/9 [==============================] - 0s 9ms/step - loss: 0.5796\n",
      "Epoch 64/100\n",
      "9/9 [==============================] - 3600s 450s/step - loss: 0.5800\n",
      "Epoch 65/100\n",
      "9/9 [==============================] - 0s 9ms/step - loss: 0.5794\n",
      "Epoch 66/100\n",
      "9/9 [==============================] - 0s 9ms/step - loss: 0.5786\n",
      "Epoch 67/100\n",
      "9/9 [==============================] - 0s 8ms/step - loss: 0.5785\n",
      "Epoch 68/100\n",
      "9/9 [==============================] - 0s 6ms/step - loss: 0.5787\n",
      "Epoch 69/100\n",
      "9/9 [==============================] - 0s 5ms/step - loss: 0.5790\n",
      "Epoch 70/100\n",
      "9/9 [==============================] - 0s 7ms/step - loss: 0.5793\n",
      "Epoch 71/100\n",
      "9/9 [==============================] - 0s 5ms/step - loss: 0.5797\n",
      "Epoch 72/100\n",
      "9/9 [==============================] - 0s 6ms/step - loss: 0.5800\n",
      "Epoch 73/100\n",
      "9/9 [==============================] - 0s 8ms/step - loss: 0.5795\n",
      "Epoch 74/100\n",
      "9/9 [==============================] - 0s 6ms/step - loss: 0.5786\n",
      "Epoch 75/100\n",
      "9/9 [==============================] - 0s 6ms/step - loss: 0.5785\n",
      "Epoch 76/100\n",
      "9/9 [==============================] - 0s 8ms/step - loss: 0.5787\n",
      "Epoch 77/100\n",
      "9/9 [==============================] - 0s 6ms/step - loss: 0.5790\n",
      "Epoch 78/100\n",
      "9/9 [==============================] - 0s 6ms/step - loss: 0.5794\n",
      "Epoch 79/100\n",
      "9/9 [==============================] - 0s 6ms/step - loss: 0.5797\n",
      "Epoch 80/100\n",
      "9/9 [==============================] - 0s 6ms/step - loss: 0.5801\n",
      "Epoch 81/100\n",
      "9/9 [==============================] - 0s 8ms/step - loss: 0.5795\n",
      "Epoch 82/100\n",
      "9/9 [==============================] - 0s 5ms/step - loss: 0.5786\n",
      "Epoch 83/100\n",
      "9/9 [==============================] - 0s 6ms/step - loss: 0.5798\n",
      "Epoch 84/100\n",
      "9/9 [==============================] - 0s 6ms/step - loss: 0.5801\n",
      "Epoch 85/100\n",
      "9/9 [==============================] - 0s 7ms/step - loss: 0.5794\n",
      "Epoch 86/100\n",
      "9/9 [==============================] - 0s 6ms/step - loss: 0.5795\n",
      "Epoch 87/100\n",
      "9/9 [==============================] - 0s 8ms/step - loss: 0.5797\n",
      "Epoch 88/100\n",
      "9/9 [==============================] - 0s 6ms/step - loss: 0.5801\n",
      "Epoch 89/100\n",
      "9/9 [==============================] - 0s 8ms/step - loss: 0.5794\n",
      "Epoch 90/100\n",
      "9/9 [==============================] - 0s 6ms/step - loss: 0.5786\n",
      "Epoch 91/100\n",
      "9/9 [==============================] - 0s 6ms/step - loss: 0.5798\n",
      "Epoch 92/100\n",
      "9/9 [==============================] - 0s 6ms/step - loss: 0.5800\n",
      "Epoch 93/100\n",
      "9/9 [==============================] - 0s 10ms/step - loss: 0.5794\n",
      "Epoch 94/100\n",
      "9/9 [==============================] - 0s 6ms/step - loss: 0.5794\n",
      "Epoch 95/100\n",
      "9/9 [==============================] - 0s 6ms/step - loss: 0.5797\n",
      "Epoch 96/100\n",
      "9/9 [==============================] - 0s 5ms/step - loss: 0.5800\n",
      "Epoch 97/100\n",
      "9/9 [==============================] - 0s 6ms/step - loss: 0.5804\n",
      "Epoch 98/100\n",
      "9/9 [==============================] - 0s 8ms/step - loss: 0.5798\n",
      "Epoch 99/100\n",
      "9/9 [==============================] - 0s 8ms/step - loss: 0.5788\n",
      "Epoch 100/100\n",
      "9/9 [==============================] - 0s 6ms/step - loss: 0.5801\n"
     ]
    }
   ],
   "source": [
    "keras.backend.clear_session()\n",
    "\n",
    "'''\n",
    "model = keras.models.Sequential([\n",
    "  layers.Conv1D(filters=32, kernel_size=4, activation='relu', padding='same', input_shape=(train_x_re.shape[1], train_x_re.shape[2])),\n",
    "  layers.Conv1D(filters=16, kernel_size=2, activation='relu', padding='same'),\n",
    "  layers.Flatten(),\n",
    "  layers.Dense(units=32, activation='relu'),\n",
    "  layers.Dense(units=1)\n",
    "])\n",
    "'''\n",
    "\n",
    "model = keras.models.Sequential([\n",
    "    layers.Dense(10, activation=\"relu\", input_shape=(train_x_re.shape[1], train_x_re.shape[2])),\n",
    "    layers.Dense(10, activation=\"relu\", input_shape=(train_x_re.shape[1], train_x_re.shape[2])),\n",
    "    layers.Dense(train_y_re.shape[-1])\n",
    "])\n",
    "\n",
    "model.compile(loss='mae', optimizer='adam')\n",
    "history = model.fit(train_x_re, train_y_re, epochs=100, shuffle=False)"
   ]
  },
  {
   "cell_type": "code",
   "execution_count": 14,
   "metadata": {
    "colab": {
     "base_uri": "https://localhost:8080/",
     "height": 265
    },
    "id": "R9zM0u9ys5HG",
    "outputId": "7cc9a9c1-603b-42cf-c15c-b3326ad22491"
   },
   "outputs": [
    {
     "data": {
      "image/png": "[encoded data removed]",
      "text/plain": [
       "<Figure size 432x288 with 1 Axes>"
      ]
     },
     "metadata": {
      "needs_background": "light"
     },
     "output_type": "display_data"
    }
   ],
   "source": [
    "imputed_mlp = mlp_imputation(pandas.DataFrame(data_missing), model, test_x, both_x, ar_lag=ar_lag)\n",
    "plot_imputed(data['%C02'], missing_indices, imputed_mlp)"
   ]
  },
  {
   "cell_type": "code",
   "execution_count": 15,
   "metadata": {
    "colab": {
     "base_uri": "https://localhost:8080/"
    },
    "id": "tjBVLcifYU69",
    "outputId": "7309bb06-f781-40c0-f5ae-4cb4ae4c8d49"
   },
   "outputs": [
    {
     "name": "stdout",
     "output_type": "stream",
     "text": [
      "MAE (Multilayer Perceptron): 0.4907409667968746\n"
     ]
    }
   ],
   "source": [
    "mae_mlp = get_mae_of_imputed(data['%C02'], missing_indices, imputed_mlp[imputed_mlp.columns[0]])\n",
    "print(\"MAE (Multilayer Perceptron):\", mae_mlp)\n",
    "performances['mlp'] = mae_mlp"
   ]
  },
  {
   "cell_type": "markdown",
   "metadata": {
    "id": "-CywFG_qFgdN"
   },
   "source": [
    "Fourth Method: missForest"
   ]
  },
  {
   "cell_type": "code",
   "execution_count": 16,
   "metadata": {
    "id": "5LsrNqeHFa_y"
   },
   "outputs": [],
   "source": [
    "# Method requires at least 2 variables\n",
    "full_data_missing = copy.deepcopy(data)\n",
    "full_data_missing['%C02'] = data_missing"
   ]
  },
  {
   "cell_type": "code",
   "execution_count": 17,
   "metadata": {
    "colab": {
     "base_uri": "https://localhost:8080/"
    },
    "id": "BXNmq8PJI9xi",
    "outputId": "2e3db908-2505-4bbb-d48a-a566ecc83814"
   },
   "outputs": [
    {
     "name": "stdout",
     "output_type": "stream",
     "text": [
      "Iteration: 0\n",
      "Iteration: 1\n",
      "Iteration: 2\n"
     ]
    }
   ],
   "source": [
    "imputer = MissForest()\n",
    "imputed_mf = imputer.fit_transform(full_data_missing.values)[:, 1]"
   ]
  },
  {
   "cell_type": "code",
   "execution_count": 18,
   "metadata": {
    "colab": {
     "base_uri": "https://localhost:8080/",
     "height": 265
    },
    "id": "tP8wQg69Jax8",
    "outputId": "1e73d33b-5638-4983-c9cd-5fbccfa0aa32"
   },
   "outputs": [
    {
     "data": {
      "image/png": "[encoded data removed]",
      "text/plain": [
       "<Figure size 432x288 with 1 Axes>"
      ]
     },
     "metadata": {
      "needs_background": "light"
     },
     "output_type": "display_data"
    }
   ],
   "source": [
    "imputed_mf = pandas.DataFrame(imputed_mf)\n",
    "plot_imputed(data['%C02'], missing_indices, imputed_mf)"
   ]
  },
  {
   "cell_type": "code",
   "execution_count": 19,
   "metadata": {
    "colab": {
     "base_uri": "https://localhost:8080/"
    },
    "id": "tLLX8G4iKT0W",
    "outputId": "2d4b2755-e775-4b0d-b363-7feaa21661b7"
   },
   "outputs": [
    {
     "name": "stdout",
     "output_type": "stream",
     "text": [
      "MAE (Multilayer Perceptron): 3.4500483333333305\n"
     ]
    }
   ],
   "source": [
    "mae_mf = get_mae_of_imputed(data['%C02'], missing_indices, imputed_mf[imputed_mf.columns[0]])\n",
    "print(\"MAE (Multilayer Perceptron):\", mae_mf)\n",
    "performances['mf'] = mae_mf"
   ]
  }
 ],
 "metadata": {
  "colab": {
   "collapsed_sections": [],
   "name": "Missing_Data_Imputation.ipynb",
   "provenance": []
  },
  "kernelspec": {
   "display_name": "Python 3",
   "language": "python",
   "name": "python3"
  },
  "language_info": {
   "codemirror_mode": {
    "name": "ipython",
    "version": 3
   },
   "file_extension": ".py",
   "mimetype": "text/x-python",
   "name": "python",
   "nbconvert_exporter": "python",
   "pygments_lexer": "ipython3",
   "version": "3.8.10"
  }
 },
 "nbformat": 4,
 "nbformat_minor": 1
}
